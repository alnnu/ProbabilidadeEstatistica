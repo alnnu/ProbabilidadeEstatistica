{
 "cells": [
  {
   "cell_type": "code",
   "execution_count": 2,
   "id": "537a894e-3dc2-4150-a00b-629aced26649",
   "metadata": {},
   "outputs": [],
   "source": [
    "import pandas as pd\n",
    "import matplotlib.pyplot as plt"
   ]
  },
  {
   "cell_type": "code",
   "execution_count": 3,
   "id": "956f5c6e-387a-483c-8d29-ec820060f29d",
   "metadata": {},
   "outputs": [
    {
     "data": {
      "text/html": [
       "<div>\n",
       "<style scoped>\n",
       "    .dataframe tbody tr th:only-of-type {\n",
       "        vertical-align: middle;\n",
       "    }\n",
       "\n",
       "    .dataframe tbody tr th {\n",
       "        vertical-align: top;\n",
       "    }\n",
       "\n",
       "    .dataframe thead th {\n",
       "        text-align: right;\n",
       "    }\n",
       "</style>\n",
       "<table border=\"1\" class=\"dataframe\">\n",
       "  <thead>\n",
       "    <tr style=\"text-align: right;\">\n",
       "      <th></th>\n",
       "      <th>Id</th>\n",
       "      <th>Turma</th>\n",
       "      <th>Sexo</th>\n",
       "      <th>Idade</th>\n",
       "      <th>Alt</th>\n",
       "      <th>Peso</th>\n",
       "      <th>Filhos</th>\n",
       "      <th>Fuma</th>\n",
       "      <th>Toler</th>\n",
       "      <th>Exerc</th>\n",
       "      <th>Cine</th>\n",
       "      <th>OpCine</th>\n",
       "      <th>TV</th>\n",
       "      <th>OpTV</th>\n",
       "    </tr>\n",
       "  </thead>\n",
       "  <tbody>\n",
       "    <tr>\n",
       "      <th>0</th>\n",
       "      <td>1</td>\n",
       "      <td>A</td>\n",
       "      <td>F</td>\n",
       "      <td>17</td>\n",
       "      <td>1.60</td>\n",
       "      <td>60.5</td>\n",
       "      <td>2</td>\n",
       "      <td>NAO</td>\n",
       "      <td>P</td>\n",
       "      <td>0</td>\n",
       "      <td>1</td>\n",
       "      <td>B</td>\n",
       "      <td>16</td>\n",
       "      <td>R</td>\n",
       "    </tr>\n",
       "    <tr>\n",
       "      <th>1</th>\n",
       "      <td>2</td>\n",
       "      <td>A</td>\n",
       "      <td>F</td>\n",
       "      <td>18</td>\n",
       "      <td>1.69</td>\n",
       "      <td>55.0</td>\n",
       "      <td>1</td>\n",
       "      <td>NAO</td>\n",
       "      <td>M</td>\n",
       "      <td>0</td>\n",
       "      <td>1</td>\n",
       "      <td>B</td>\n",
       "      <td>7</td>\n",
       "      <td>R</td>\n",
       "    </tr>\n",
       "    <tr>\n",
       "      <th>2</th>\n",
       "      <td>3</td>\n",
       "      <td>A</td>\n",
       "      <td>M</td>\n",
       "      <td>18</td>\n",
       "      <td>1.85</td>\n",
       "      <td>72.8</td>\n",
       "      <td>2</td>\n",
       "      <td>NAO</td>\n",
       "      <td>P</td>\n",
       "      <td>5</td>\n",
       "      <td>2</td>\n",
       "      <td>M</td>\n",
       "      <td>15</td>\n",
       "      <td>R</td>\n",
       "    </tr>\n",
       "    <tr>\n",
       "      <th>3</th>\n",
       "      <td>4</td>\n",
       "      <td>A</td>\n",
       "      <td>M</td>\n",
       "      <td>25</td>\n",
       "      <td>1.85</td>\n",
       "      <td>80.9</td>\n",
       "      <td>2</td>\n",
       "      <td>NAO</td>\n",
       "      <td>P</td>\n",
       "      <td>5</td>\n",
       "      <td>2</td>\n",
       "      <td>B</td>\n",
       "      <td>20</td>\n",
       "      <td>R</td>\n",
       "    </tr>\n",
       "    <tr>\n",
       "      <th>4</th>\n",
       "      <td>5</td>\n",
       "      <td>A</td>\n",
       "      <td>F</td>\n",
       "      <td>19</td>\n",
       "      <td>1.58</td>\n",
       "      <td>55.0</td>\n",
       "      <td>1</td>\n",
       "      <td>NAO</td>\n",
       "      <td>M</td>\n",
       "      <td>2</td>\n",
       "      <td>2</td>\n",
       "      <td>B</td>\n",
       "      <td>5</td>\n",
       "      <td>R</td>\n",
       "    </tr>\n",
       "  </tbody>\n",
       "</table>\n",
       "</div>"
      ],
      "text/plain": [
       "   Id Turma Sexo  Idade   Alt  Peso  Filhos Fuma Toler  Exerc  Cine OpCine  \\\n",
       "0   1     A    F     17  1.60  60.5       2  NAO     P      0     1      B   \n",
       "1   2     A    F     18  1.69  55.0       1  NAO     M      0     1      B   \n",
       "2   3     A    M     18  1.85  72.8       2  NAO     P      5     2      M   \n",
       "3   4     A    M     25  1.85  80.9       2  NAO     P      5     2      B   \n",
       "4   5     A    F     19  1.58  55.0       1  NAO     M      2     2      B   \n",
       "\n",
       "   TV OpTV  \n",
       "0  16    R  \n",
       "1   7    R  \n",
       "2  15    R  \n",
       "3  20    R  \n",
       "4   5    R  "
      ]
     },
     "execution_count": 3,
     "metadata": {},
     "output_type": "execute_result"
    }
   ],
   "source": [
    "dados = pd.read_csv(\"dados/dados_estudantes.csv\", sep=\";\")\n",
    "\n",
    "dados.head()"
   ]
  },
  {
   "cell_type": "code",
   "execution_count": 4,
   "id": "69cbf0f2-9143-4536-9aba-e916dd967079",
   "metadata": {},
   "outputs": [
    {
     "name": "stdout",
     "output_type": "stream",
     "text": [
      "<class 'pandas.core.frame.DataFrame'>\n",
      "RangeIndex: 50 entries, 0 to 49\n",
      "Data columns (total 14 columns):\n",
      " #   Column  Non-Null Count  Dtype  \n",
      "---  ------  --------------  -----  \n",
      " 0   Id      50 non-null     int64  \n",
      " 1   Turma   50 non-null     object \n",
      " 2   Sexo    50 non-null     object \n",
      " 3   Idade   50 non-null     int64  \n",
      " 4   Alt     50 non-null     float64\n",
      " 5   Peso    50 non-null     float64\n",
      " 6   Filhos  50 non-null     int64  \n",
      " 7   Fuma    50 non-null     object \n",
      " 8   Toler   50 non-null     object \n",
      " 9   Exerc   50 non-null     int64  \n",
      " 10  Cine    50 non-null     int64  \n",
      " 11  OpCine  50 non-null     object \n",
      " 12  TV      50 non-null     int64  \n",
      " 13  OpTV    50 non-null     object \n",
      "dtypes: float64(2), int64(6), object(6)\n",
      "memory usage: 5.6+ KB\n"
     ]
    }
   ],
   "source": [
    "dados.info()"
   ]
  },
  {
   "cell_type": "code",
   "execution_count": 8,
   "id": "755aa57a-5eba-4089-b284-01fb827b5393",
   "metadata": {},
   "outputs": [
    {
     "data": {
      "text/plain": [
       "Turma\n",
       "A    26\n",
       "B    24\n",
       "Name: count, dtype: int64"
      ]
     },
     "execution_count": 8,
     "metadata": {},
     "output_type": "execute_result"
    }
   ],
   "source": [
    "dados['Turma'].value_counts()"
   ]
  },
  {
   "cell_type": "code",
   "execution_count": null,
   "id": "9523328d-c3e2-4380-a6ed-6af8c2d0fd77",
   "metadata": {},
   "outputs": [],
   "source": []
  }
 ],
 "metadata": {
  "kernelspec": {
   "display_name": "Python 3 (ipykernel)",
   "language": "python",
   "name": "python3"
  },
  "language_info": {
   "codemirror_mode": {
    "name": "ipython",
    "version": 3
   },
   "file_extension": ".py",
   "mimetype": "text/x-python",
   "name": "python",
   "nbconvert_exporter": "python",
   "pygments_lexer": "ipython3",
   "version": "3.10.12"
  }
 },
 "nbformat": 4,
 "nbformat_minor": 5
}
